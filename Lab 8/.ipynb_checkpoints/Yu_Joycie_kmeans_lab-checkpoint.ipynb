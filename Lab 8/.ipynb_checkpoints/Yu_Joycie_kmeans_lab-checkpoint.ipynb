{
 "cells": [
  {
   "cell_type": "markdown",
   "metadata": {},
   "source": [
    "# K-Means Clustering\n",
    "\n",
    "INFO 371 Spring 2018\n",
    "\n",
    "Lab created by: Christie Gan\n",
    "\n",
    "Deadline: 5/23/18 11:59PM\n",
    "\n",
    "Last Edit: 5/19/2018"
   ]
  },
  {
   "cell_type": "markdown",
   "metadata": {},
   "source": [
    "This is a type of unsupervised learning, and one of the more popular clustering algorithms out there. The algorithm clusters the data into K number of clusters. It is used in a variety of applications, including clustering languages, image segmentation, and anomaly detection. The general idea is that it picks k random points as cluster centers (centroids), assign each point to the nearest centroid by calculating distance, find new centroids by taking the average of the assigned points, and repeat until none of the centroid assignment change anymore.\n",
    "\n",
    "Data taken from: http://archive.ics.uci.edu/ml/datasets/Wholesale+customers# This dataset has data on annual spending on types of grocery categories."
   ]
  },
  {
   "cell_type": "code",
   "execution_count": 15,
   "metadata": {},
   "outputs": [],
   "source": [
    "#import packages\n",
    "from sklearn.cluster import KMeans as km\n",
    "#import any other packages you want to use\n",
    "import pandas as pd\n",
    "import matplotlib.pyplot as plt\n",
    "import numpy as np"
   ]
  },
  {
   "cell_type": "code",
   "execution_count": 8,
   "metadata": {},
   "outputs": [],
   "source": [
    "#Load the wholesaledata.csv data\n",
    "data = pd.read_csv('wholesaledata.csv')"
   ]
  },
  {
   "cell_type": "markdown",
   "metadata": {},
   "source": [
    "### 1.) Select just the Fresh and Grocery columns and set the two columns into a dataframe."
   ]
  },
  {
   "cell_type": "code",
   "execution_count": 22,
   "metadata": {},
   "outputs": [],
   "source": [
    "data = data[['Fresh', 'Grocery']]\n",
    "df = pd.DataFrame(data)\n",
    "# df.head()"
   ]
  },
  {
   "cell_type": "markdown",
   "metadata": {},
   "source": [
    "### 2.) Plot out all the Within Cluster Sum of Squares (y-axis) vs the number of possible clusters (x-axis). Make the range of possible clusters go from 1 to 50 clusters. "
   ]
  },
  {
   "cell_type": "code",
   "execution_count": 29,
   "metadata": {},
   "outputs": [
    {
     "data": {
      "image/png": "[encoded data removed]",
      "text/plain": [
       "<matplotlib.figure.Figure at 0x1a1cdb22e8>"
      ]
     },
     "metadata": {},
     "output_type": "display_data"
    }
   ],
   "source": [
    "plot = [0] * 49\n",
    "for i in range(1,50):\n",
    "    cluster = km(n_clusters = i, init = 'k-means++', random_state = 0).fit(df)\n",
    "    plot[i-1] = cluster.inertia_\n",
    "    \n",
    "    \n",
    "plt.plot(range(1,50), plot)\n",
    "plt.ylabel('Within Cluster Sum of Squares')\n",
    "plt.xlabel('number of possible clusters')\n",
    "plt.show()"
   ]
  },
  {
   "cell_type": "markdown",
   "metadata": {},
   "source": [
    "### 3.) Based on the graph, find the optimal number of clusters in this dataset. No code necessary, just eyeball it. Which point of the graph would have the best sum of sqaures, or in other words, how many clusters would best divide up this dataset?"
   ]
  },
  {
   "cell_type": "markdown",
   "metadata": {},
   "source": [
    "Maybe 6?"
   ]
  },
  {
   "cell_type": "markdown",
   "metadata": {},
   "source": [
    "### 4.) Use K Means classification to find the separate clusters (groups of annual spending on types of food) out of the dataset. Use the K value you found in question 3. Plot out the different clusters (first plot out the original data, then plot out the centroids of each cluster)"
   ]
  },
  {
   "cell_type": "code",
   "execution_count": 25,
   "metadata": {},
   "outputs": [],
   "source": [
    "opt = km(n_clusters = 6).fit(df)\n",
    "pred = opt.predict(df)\n",
    "\n",
    "centroid = opt.cluster_centers_"
   ]
  },
  {
   "cell_type": "code",
   "execution_count": null,
   "metadata": {},
   "outputs": [],
   "source": []
  }
 ],
 "metadata": {
  "kernelspec": {
   "display_name": "Python 3",
   "language": "python",
   "name": "python3"
  },
  "language_info": {
   "codemirror_mode": {
    "name": "ipython",
    "version": 3
   },
   "file_extension": ".py",
   "mimetype": "text/x-python",
   "name": "python",
   "nbconvert_exporter": "python",
   "pygments_lexer": "ipython3",
   "version": "3.6.4"
  }
 },
 "nbformat": 4,
 "nbformat_minor": 2
}
