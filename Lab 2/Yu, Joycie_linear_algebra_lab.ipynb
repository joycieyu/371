{
 "cells": [
  {
   "cell_type": "markdown",
   "metadata": {
    "ein.tags": [
     "worksheet-0"
    ],
    "slideshow": {
     "slide_type": "-"
    }
   },
   "source": [
    "# Linear algebra\n",
    "\n",
    "This is a lab that helps you learn linear algebra (and the related numpy commands.)  Consult Greene \"Econometric Analysis\" Appendix A when solving these problems.\n"
   ]
  },
  {
   "cell_type": "markdown",
   "metadata": {},
   "source": [
    "Import appropriate packages"
   ]
  },
  {
   "cell_type": "code",
   "execution_count": 2,
   "metadata": {
    "autoscroll": "json-false",
    "ein.tags": [
     "worksheet-0"
    ],
    "slideshow": {
     "slide_type": "-"
    }
   },
   "outputs": [
    {
     "name": "stdout",
     "output_type": "stream",
     "text": [
      "IPython version:       6.2.1 (need at least 1.0)\n",
      "Numpy version:        1.14.0 (need at least 1.7.1)\n",
      "Pandas version:       0.22.0 (need at least 0.11.0)\n"
     ]
    }
   ],
   "source": [
    "import IPython\n",
    "print(\"IPython version:      %6.6s (need at least 1.0)\" % IPython.__version__)\n",
    "\n",
    "# Numpy is a library for working with Arrays\n",
    "import numpy as np\n",
    "print(\"Numpy version:        %6.6s (need at least 1.7.1)\" % np.__version__)\n",
    "\n",
    "# Pandas makes working with data tables easier\n",
    "import pandas as pd\n",
    "print(\"Pandas version:       %6.6s (need at least 0.11.0)\" % pd.__version__)"
   ]
  },
  {
   "cell_type": "markdown",
   "metadata": {
    "ein.tags": [
     "worksheet-0"
    ],
    "slideshow": {
     "slide_type": "-"
    }
   },
   "source": [
    "## 1 Matrix multiplication\n",
    "* create the following matrices:\n",
    "a = [ 1 2 3 4], b = [5 6 7 8 ]'\n",
    "(note: b includes the transpose sign)\n",
    "* compute the following matrix products $a \\cdot b$ and $a' \\cdot b'$"
   ]
  },
  {
   "cell_type": "code",
   "execution_count": 12,
   "metadata": {
    "autoscroll": "json-false",
    "ein.tags": [
     "worksheet-0"
    ],
    "slideshow": {
     "slide_type": "-"
    }
   },
   "outputs": [
    {
     "name": "stdout",
     "output_type": "stream",
     "text": [
      "[[70]]\n",
      "[[ 5  6  7  8]\n",
      " [10 12 14 16]\n",
      " [15 18 21 24]\n",
      " [20 24 28 32]]\n"
     ]
    }
   ],
   "source": [
    "a = np.matrix(\"1, 2, 3, 4\")\n",
    "b = np.matrix(\"5, 6, 7, 8\")\n",
    "b = b.T\n",
    "print(a * b)\n",
    "\n",
    "\n",
    "ap = a.T\n",
    "bp = b.T\n",
    "print(ap * bp)\n"
   ]
  },
  {
   "cell_type": "markdown",
   "metadata": {
    "ein.tags": [
     "worksheet-0"
    ],
    "slideshow": {
     "slide_type": "-"
    }
   },
   "source": [
    "## 2 Linear (in)dependence\n",
    "Consider three vectors:\n",
    "a = [1 2 3 4],\n",
    "b = [5 6 7 8] and\n",
    "c = [9 10 11 12]\n",
    "\n",
    "* are these vectors linearly independent?  Calculate the rank, a related determinant, and show how they are related/unrelated"
   ]
  },
  {
   "cell_type": "code",
   "execution_count": 24,
   "metadata": {
    "autoscroll": "json-false",
    "ein.tags": [
     "worksheet-0"
    ],
    "slideshow": {
     "slide_type": "-"
    }
   },
   "outputs": [
    {
     "name": "stdout",
     "output_type": "stream",
     "text": [
      "2\n",
      "0.0\n"
     ]
    }
   ],
   "source": [
    "b = np.matrix(\"5, 6, 7, 8\")\n",
    "c = np.matrix(\"9, 10, 11, 12\")\n",
    "matrix = np.matrix(\"1, 2, 3, 4; 5, 6, 7, 8; 9, 10, 11, 12\")\n",
    "\n",
    "print(np.linalg.matrix_rank(matrix))\n",
    "print(np.linalg.det(matrix * matrix.T))"
   ]
  },
  {
   "cell_type": "markdown",
   "metadata": {
    "ein.tags": [
     "worksheet-0"
    ],
    "slideshow": {
     "slide_type": "-"
    }
   },
   "source": [
    "## 3 Find the inverses of the following matrices:\n",
    "\n",
    "\n",
    "A = [ <br/>\n",
    "    1 2 3 4 <br/>\n",
    "5 6 7 8 <br/>\n",
    "-1 10 11 12 <br/>\n",
    "13 14 15 17 ],\n",
    "\n",
    "B = [ <br/>\n",
    "    1 0 0 <br/>\n",
    "     0 4 0 <br/>\n",
    "     0 0 16]\n",
    "\n",
    "and\n",
    "\n",
    "C = [ <br/>\n",
    "    1 2 3 4 <br/>\n",
    "      5 6 7 8 <br/>\n",
    "      9 10 11 12 <br/>\n",
    "      13 14 15 17 ]\n",
    "\n",
    "* Check the results by left- and right multiplication of the inverse.  Explain."
   ]
  },
  {
   "cell_type": "code",
   "execution_count": 33,
   "metadata": {
    "autoscroll": "json-false",
    "ein.tags": [
     "worksheet-0"
    ],
    "slideshow": {
     "slide_type": "-"
    }
   },
   "outputs": [
    {
     "name": "stdout",
     "output_type": "stream",
     "text": [
      "[[-1.00000000e-01  2.00000000e-01 -1.00000000e-01  2.04964251e-16]\n",
      " [ 4.50000000e-01 -2.65000000e+00  2.00000000e-01  1.00000000e+00]\n",
      " [-2.60000000e+00  5.70000000e+00 -1.00000000e-01 -2.00000000e+00]\n",
      " [ 2.00000000e+00 -3.00000000e+00 -7.40148683e-17  1.00000000e+00]]\n",
      "\n",
      " [[ 1.00000000e+00 -1.99840144e-15 -2.44249065e-15 -2.88657986e-15]\n",
      " [-1.77635684e-15  1.00000000e+00 -1.77635684e-15 -2.66453526e-15]\n",
      " [ 1.33226763e-15  8.88178420e-16  1.00000000e+00  1.77635684e-15]\n",
      " [ 4.44089210e-16  1.77635684e-15  1.77635684e-15  1.00000000e+00]]\n",
      "\n",
      " [[ 1.00000000e+00  0.00000000e+00  0.00000000e+00  0.00000000e+00]\n",
      " [ 0.00000000e+00  1.00000000e+00  0.00000000e+00  0.00000000e+00]\n",
      " [ 0.00000000e+00  7.10542736e-15  1.00000000e+00 -3.55271368e-15]\n",
      " [ 0.00000000e+00 -1.42108547e-14  0.00000000e+00  1.00000000e+00]]\n",
      "[[1.     0.     0.    ]\n",
      " [0.     0.25   0.    ]\n",
      " [0.     0.     0.0625]]\n",
      "\n",
      " [[1. 0. 0.]\n",
      " [0. 1. 0.]\n",
      " [0. 0. 1.]]\n",
      "\n",
      " [[1. 0. 0.]\n",
      " [0. 1. 0.]\n",
      " [0. 0. 1.]]\n",
      "[[-1.00000000e-01  2.00000000e-01 -1.00000000e-01  2.04964251e-16]\n",
      " [ 4.50000000e-01 -2.65000000e+00  2.00000000e-01  1.00000000e+00]\n",
      " [-2.60000000e+00  5.70000000e+00 -1.00000000e-01 -2.00000000e+00]\n",
      " [ 2.00000000e+00 -3.00000000e+00 -7.40148683e-17  1.00000000e+00]]\n",
      "\n",
      " [[ 1.00000000e+00 -1.99840144e-15 -2.44249065e-15 -2.88657986e-15]\n",
      " [-1.77635684e-15  1.00000000e+00 -1.77635684e-15 -2.66453526e-15]\n",
      " [ 1.33226763e-15  8.88178420e-16  1.00000000e+00  1.77635684e-15]\n",
      " [ 4.44089210e-16  1.77635684e-15  1.77635684e-15  1.00000000e+00]]\n",
      "\n",
      " [[ 1.00000000e+00  0.00000000e+00  0.00000000e+00  0.00000000e+00]\n",
      " [ 0.00000000e+00  1.00000000e+00  0.00000000e+00  0.00000000e+00]\n",
      " [ 0.00000000e+00  7.10542736e-15  1.00000000e+00 -3.55271368e-15]\n",
      " [ 0.00000000e+00 -1.42108547e-14  0.00000000e+00  1.00000000e+00]]\n"
     ]
    }
   ],
   "source": [
    "A = np.matrix(\"1, 2, 3, 4; 5, 6, 7, 8; -1, 10, 11, 12; 13, 14, 15, 17 \")\n",
    "\n",
    "a1 = np.linalg.inv(A)\n",
    "print(a1)\n",
    "print(\"\\n\", a1 @ A)\n",
    "print(\"\\n\", A @ a1)\n",
    "# print(\"\\n\", A @ a1 - np.eye(2))\n",
    "\n",
    "B = np.matrix(\"1, 0, 0; 0, 4, 0; 0, 0, 16\")\n",
    "\n",
    "b1 = np.linalg.inv(B)\n",
    "print(b1)\n",
    "print(\"\\n\", b1 @ B)\n",
    "print(\"\\n\", B @ b1)\n",
    "# print(\"\\n\", B @ b1 - np.eye(2))\n",
    "\n",
    "C = np.matrix(\"1, 2, 3, 4; 5, 6, 7, 8; -1, 10, 11, 12; 13, 14, 15, 17 \")\n",
    "\n",
    "c1 = np.linalg.inv(C)\n",
    "print(c1)\n",
    "print(\"\\n\", c1 @ C)\n",
    "print(\"\\n\", C @ c1)\n",
    "# print(\"\\n\", C @ c1 - np.eye(2))\n"
   ]
  },
  {
   "cell_type": "markdown",
   "metadata": {
    "ein.tags": [
     "worksheet-0"
    ],
    "slideshow": {
     "slide_type": "-"
    }
   },
   "source": [
    "## 4 Characteristic roots\n",
    "* Find the roots (eigenvalues) of the matrices A, B, C above.\n",
    "* Calculate the condition numbers of these matrices in two ways: the default numpy way, and in this way as it is explained in Greene (2003, page 829)\n",
    "* Explain the results"
   ]
  },
  {
   "cell_type": "code",
   "execution_count": 34,
   "metadata": {
    "autoscroll": "json-false",
    "ein.tags": [
     "worksheet-0"
    ],
    "slideshow": {
     "slide_type": "-"
    }
   },
   "outputs": [
    {
     "name": "stdout",
     "output_type": "stream",
     "text": [
      "\n",
      "eigenvalues A\n",
      " (array([35.83449756,  1.34371891, -1.6853005 , -0.49291597]), matrix([[-0.15251646, -0.1275233 ,  0.22153696,  0.08211323],\n",
      "        [-0.35160514, -0.13224317, -0.177807  , -0.38931136],\n",
      "        [-0.50813247,  0.81206955,  0.73737404,  0.80513068],\n",
      "        [-0.77130664, -0.55388862, -0.61285036, -0.43983936]]))\n",
      "\n",
      "eigenvalues A\n",
      " [35.83449756  1.34371891 -1.6853005  -0.49291597]\n",
      "\n",
      "eigenvectors A\n",
      " [[-0.15251646 -0.1275233   0.22153696  0.08211323]\n",
      " [-0.35160514 -0.13224317 -0.177807   -0.38931136]\n",
      " [-0.50813247  0.81206955  0.73737404  0.80513068]\n",
      " [-0.77130664 -0.55388862 -0.61285036 -0.43983936]]\n",
      "\n",
      "eigenvalues B\n",
      " (array([ 1.,  4., 16.]), matrix([[1., 0., 0.],\n",
      "        [0., 1., 0.],\n",
      "        [0., 0., 1.]]))\n",
      "\n",
      "eigenvalues B\n",
      " [ 1.  4. 16.]\n",
      "\n",
      "eigenvectors B\n",
      " [[1. 0. 0.]\n",
      " [0. 1. 0.]\n",
      " [0. 0. 1.]]\n",
      "\n",
      "eigenvalues C\n",
      " (array([35.83449756,  1.34371891, -1.6853005 , -0.49291597]), matrix([[-0.15251646, -0.1275233 ,  0.22153696,  0.08211323],\n",
      "        [-0.35160514, -0.13224317, -0.177807  , -0.38931136],\n",
      "        [-0.50813247,  0.81206955,  0.73737404,  0.80513068],\n",
      "        [-0.77130664, -0.55388862, -0.61285036, -0.43983936]]))\n",
      "\n",
      "eigenvalues C\n",
      " [35.83449756  1.34371891 -1.6853005  -0.49291597]\n",
      "\n",
      "eigenvectors C\n",
      " [[-0.15251646 -0.1275233   0.22153696  0.08211323]\n",
      " [-0.35160514 -0.13224317 -0.177807   -0.38931136]\n",
      " [-0.50813247  0.81206955  0.73737404  0.80513068]\n",
      " [-0.77130664 -0.55388862 -0.61285036 -0.43983936]]\n"
     ]
    }
   ],
   "source": [
    "evA = np.linalg.eig(A)\n",
    "print('\\neigenvalues A\\n', evA)\n",
    "val, vec = np.linalg.eig(A)\n",
    "print('\\neigenvalues A\\n', val)\n",
    "print('\\neigenvectors A\\n', vec)\n",
    "\n",
    "evB = np.linalg.eig(B)\n",
    "print('\\neigenvalues B\\n', evB)\n",
    "val, vec = np.linalg.eig(B)\n",
    "print('\\neigenvalues B\\n', val)\n",
    "print('\\neigenvectors B\\n', vec)\n",
    "\n",
    "\n",
    "evC = np.linalg.eig(C)\n",
    "print('\\neigenvalues C\\n', evC)\n",
    "val, vec = np.linalg.eig(C)\n",
    "print('\\neigenvalues C\\n', val)\n",
    "print('\\neigenvectors C\\n', vec)"
   ]
  },
  {
   "cell_type": "code",
   "execution_count": null,
   "metadata": {},
   "outputs": [],
   "source": []
  }
 ],
 "metadata": {
  "kernelspec": {
   "display_name": "Python 3",
   "language": "python",
   "name": "python3"
  },
  "language_info": {
   "codemirror_mode": {
    "name": "ipython",
    "version": 3
   },
   "file_extension": ".py",
   "mimetype": "text/x-python",
   "name": "python",
   "nbconvert_exporter": "python",
   "pygments_lexer": "ipython3",
   "version": "3.6.4"
  },
  "name": "01_linear_algebra_solutions.ipynb"
 },
 "nbformat": 4,
 "nbformat_minor": 2
}
