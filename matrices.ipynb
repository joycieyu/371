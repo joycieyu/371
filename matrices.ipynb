{
 "cells": [
  {
   "cell_type": "markdown",
   "metadata": {
    "ein.tags": "worksheet-0",
    "slideshow": {
     "slide_type": "-"
    }
   },
   "source": [
    "# matrix operations in numpy"
   ]
  },
  {
   "cell_type": "code",
   "execution_count": 1,
   "metadata": {
    "autoscroll": false,
    "ein.tags": "worksheet-0",
    "slideshow": {
     "slide_type": "-"
    }
   },
   "outputs": [],
   "source": [
    "import numpy as np\n",
    "import matplotlib.pyplot as plt\n",
    "%matplotlib inline"
   ]
  },
  {
   "cell_type": "markdown",
   "metadata": {
    "ein.tags": "worksheet-0",
    "slideshow": {
     "slide_type": "-"
    }
   },
   "source": [
    "## Create matrices"
   ]
  },
  {
   "cell_type": "code",
   "execution_count": 2,
   "metadata": {
    "autoscroll": false,
    "ein.tags": "worksheet-0",
    "slideshow": {
     "slide_type": "-"
    }
   },
   "outputs": [
    {
     "name": "stdout",
     "output_type": "stream",
     "text": [
      "[[1 2 3]\n",
      " [4 5 6]\n",
      " [7 8 9]]\n",
      "[[1 2 3]\n",
      " [4 5 6]\n",
      " [7 8 9]]\n",
      "1 2 3; 4 5 6; 7 8 9\n",
      "[[1 2 3]\n",
      " [4 5 6]\n",
      " [7 8 9]]\n"
     ]
    }
   ],
   "source": [
    "## create square matrices\n",
    "m = np.matrix(\"1 2 3; 4 5 6; 7 8 9\")\n",
    "# a handy shortcut for np.matrix\n",
    "print(m)\n",
    "m = np.matrix([[1, 2, 3], [4, 5, 6], [7, 8, 9]])\n",
    "# standard array way to create things works too\n",
    "print(m)\n",
    "a = np.array(\"1 2 3; 4 5 6; 7 8 9\")\n",
    "# shortcut does not work for np.array\n",
    "print(a)\n",
    "a = np.array([[1, 2, 3], [4, 5, 6], [7, 8, 9]])\n",
    "print(a)"
   ]
  },
  {
   "cell_type": "code",
   "execution_count": 3,
   "metadata": {
    "autoscroll": false,
    "ein.tags": "worksheet-0",
    "slideshow": {
     "slide_type": "-"
    }
   },
   "outputs": [
    {
     "name": "stdout",
     "output_type": "stream",
     "text": [
      "[[3 2 1]]\n",
      "[[3 2 1]]\n"
     ]
    }
   ],
   "source": [
    "# create row matrices\n",
    "n = np.matrix([3,2,1])\n",
    "print(n)\n",
    "b = np.array([[3,2,1]])\n",
    "print(b)"
   ]
  },
  {
   "cell_type": "markdown",
   "metadata": {
    "ein.tags": "worksheet-0",
    "slideshow": {
     "slide_type": "-"
    }
   },
   "source": [
    "## Transposition"
   ]
  },
  {
   "cell_type": "code",
   "execution_count": 4,
   "metadata": {
    "autoscroll": false,
    "ein.tags": "worksheet-0",
    "slideshow": {
     "slide_type": "-"
    }
   },
   "outputs": [
    {
     "name": "stdout",
     "output_type": "stream",
     "text": [
      "[[ 1  2  3  4]\n",
      " [ 5  6  7  8]\n",
      " [ 9 10 11 12]]\n",
      "transposed\n",
      " [[ 1  5  9]\n",
      " [ 2  6 10]\n",
      " [ 3  7 11]\n",
      " [ 4  8 12]]\n",
      "reshaped\n",
      " [[ 1  2  3]\n",
      " [ 4  5  6]\n",
      " [ 7  8  9]\n",
      " [10 11 12]]\n"
     ]
    }
   ],
   "source": [
    "m = np.matrix(np.arange(12).reshape(3,4) + 1)\n",
    "print(m)\n",
    "print(\"transposed\\n\", m.T)\n",
    "print(\"reshaped\\n\", m.reshape(4,3))"
   ]
  },
  {
   "cell_type": "markdown",
   "metadata": {
    "ein.tags": "worksheet-0",
    "slideshow": {
     "slide_type": "-"
    }
   },
   "source": [
    "## Matrix multiplication"
   ]
  },
  {
   "cell_type": "code",
   "execution_count": 5,
   "metadata": {
    "autoscroll": false,
    "ein.tags": "worksheet-0",
    "slideshow": {
     "slide_type": "-"
    }
   },
   "outputs": [
    {
     "name": "stdout",
     "output_type": "stream",
     "text": [
      "[[22 28 34 40]]\n",
      "[[22 28 34 40]]\n",
      "[[22 28 34 40]]\n",
      "[[18 24 30]]\n",
      "[[18 24 30]]\n",
      "[[18 24 30]]\n"
     ]
    }
   ],
   "source": [
    "## multiply matrices\n",
    "print(np.dot(n, m))\n",
    "print(n.dot(m))\n",
    "print( n @ m)\n",
    "# python >= 3.5\n",
    "## multiply arrays\n",
    "print(np.dot(b, a))\n",
    "print(b.dot(a))\n",
    "print(b @ a)\n"
   ]
  },
  {
   "cell_type": "code",
   "execution_count": 6,
   "metadata": {
    "autoscroll": false,
    "ein.tags": "worksheet-0",
    "slideshow": {
     "slide_type": "-"
    }
   },
   "outputs": [
    {
     "name": "stdout",
     "output_type": "stream",
     "text": [
      "[[ 30  36  42]\n",
      " [ 66  81  96]\n",
      " [102 126 150]]\n",
      "[[ 1  4  9]\n",
      " [16 25 36]\n",
      " [49 64 81]]\n"
     ]
    }
   ],
   "source": [
    "## powers\n",
    "m = np.matrix(\"1 2 3; 4 5 6; 7 8 9\")\n",
    "a = np.array([[1, 2, 3], [4, 5, 6], [7, 8, 9]])\n",
    "print(m**2)\n",
    "# m**2 = m @ m\n",
    "print(a**2)\n",
    "# a**2 is computed element-wise"
   ]
  },
  {
   "cell_type": "markdown",
   "metadata": {
    "ein.tags": "worksheet-0",
    "slideshow": {
     "slide_type": "-"
    }
   },
   "source": [
    "## Rotation matrix"
   ]
  },
  {
   "cell_type": "code",
   "execution_count": 7,
   "metadata": {
    "autoscroll": false,
    "ein.tags": "worksheet-0",
    "slideshow": {
     "slide_type": "-"
    }
   },
   "outputs": [
    {
     "ename": "NameError",
     "evalue": "name 'A' is not defined",
     "output_type": "error",
     "traceback": [
      "\u001b[0;31m---------------------------------------------------------------------------\u001b[0m",
      "\u001b[0;31mNameError\u001b[0m                                 Traceback (most recent call last)",
      "\u001b[0;32m<ipython-input-7-38895fa8e6a1>\u001b[0m in \u001b[0;36m<module>\u001b[0;34m()\u001b[0m\n\u001b[1;32m     21\u001b[0m     \u001b[0;31m# draw the axes\u001b[0m\u001b[0;34m\u001b[0m\u001b[0;34m\u001b[0m\u001b[0m\n\u001b[1;32m     22\u001b[0m \u001b[0;34m\u001b[0m\u001b[0m\n\u001b[0;32m---> 23\u001b[0;31m \u001b[0mplotFigure\u001b[0m\u001b[0;34m(\u001b[0m\u001b[0mA\u001b[0m \u001b[0;34m@\u001b[0m \u001b[0mrot\u001b[0m\u001b[0;34m(\u001b[0m\u001b[0;34m-\u001b[0m\u001b[0;36m30\u001b[0m\u001b[0;34m)\u001b[0m\u001b[0;34m)\u001b[0m\u001b[0;34m\u001b[0m\u001b[0m\n\u001b[0m",
      "\u001b[0;31mNameError\u001b[0m: name 'A' is not defined"
     ]
    }
   ],
   "source": [
    "def rot(alpha):\n",
    "    a = alpha*np.pi/180\n",
    "    return np.matrix([[np.cos(a), -np.sin(a)], [np.sin(a), np.cos(a)]])\n",
    "\n",
    "def plotFigure(A):\n",
    "    plt.figure(figsize=(8,8))\n",
    "    # set figure size\n",
    "    plt.grid(b=True)\n",
    "    # show grid\n",
    "    min_limit = np.min(A) - np.max(A)*2.0\n",
    "    max_limit = np.max(A) + np.max(A)*2.0\n",
    "    plt.axes().set_xlim((min_limit, max_limit))\n",
    "    plt.axes().set_ylim((min_limit, max_limit))\n",
    "    # set limits (not the best ones but good enough)\n",
    "    plt.axes().set_aspect('equal')\n",
    "    # ensure units are equal along the axes\n",
    "    plt.plot(A[:,0], A[:,1])\n",
    "    # plot x, y\n",
    "    plt.axhline(0, color='black', linestyle = 'dashed')\n",
    "    plt.axvline(0, color='black',linestyle = 'dashed')\n",
    "    # draw the axes\n",
    "\n",
    "plotFigure(A @ rot(-30))"
   ]
  },
  {
   "cell_type": "code",
   "execution_count": null,
   "metadata": {
    "autoscroll": false,
    "ein.tags": "worksheet-0",
    "slideshow": {
     "slide_type": "-"
    }
   },
   "outputs": [],
   "source": [
    "def rot(alpha):\n",
    "    a = alpha*np.pi/180\n",
    "    return np.matrix([[np.cos(a), -np.sin(a)], [np.sin(a), np.cos(a)]])\n",
    "\n",
    "plotFigure(A @ rot(-30))"
   ]
  },
  {
   "cell_type": "code",
   "execution_count": 18,
   "metadata": {
    "autoscroll": false,
    "ein.tags": "worksheet-0",
    "slideshow": {
     "slide_type": "-"
    }
   },
   "outputs": [
    {
     "data": {
      "text/plain": [
       "matrix([[-1,  6],\n",
       "        [-1, 14],\n",
       "        [-1, 22]])"
      ]
     },
     "execution_count": 18,
     "metadata": {},
     "output_type": "execute_result"
    }
   ],
   "source": [
    "p = np.matrix(\"1, 2; 3, 4; 5, 6\")\n",
    "p\n",
    "\n",
    "p2 = np.matrix('1,2;-1,2')\n",
    "p2\n",
    "\n",
    "p.dot(p2)\n",
    "p @ p2"
   ]
  },
  {
   "cell_type": "code",
   "execution_count": null,
   "metadata": {},
   "outputs": [],
   "source": []
  }
 ],
 "metadata": {
  "kernelspec": {
   "display_name": "Python 3",
   "language": "python",
   "name": "python3"
  },
  "language_info": {
   "codemirror_mode": {
    "name": "ipython",
    "version": 3
   },
   "file_extension": ".py",
   "mimetype": "text/x-python",
   "name": "python",
   "nbconvert_exporter": "python",
   "pygments_lexer": "ipython3",
   "version": "3.6.4"
  },
  "name": "matrices.ipynb"
 },
 "nbformat": 4,
 "nbformat_minor": 2
}
