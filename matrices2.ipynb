{
 "cells": [
  {
   "cell_type": "code",
   "execution_count": 2,
   "metadata": {
    "autoscroll": false,
    "ein.tags": "worksheet-0",
    "slideshow": {
     "slide_type": "-"
    }
   },
   "outputs": [],
   "source": [
    "import numpy as np"
   ]
  },
  {
   "cell_type": "code",
   "execution_count": 3,
   "metadata": {
    "autoscroll": false,
    "ein.tags": "worksheet-0",
    "slideshow": {
     "slide_type": "-"
    }
   },
   "outputs": [
    {
     "name": "stdout",
     "output_type": "stream",
     "text": [
      "[[0.94157734 0.60340244]\n",
      " [0.18510686 2.3286395 ]]\n",
      "2\n",
      "2.0809002539998054\n"
     ]
    }
   ],
   "source": [
    "a = np.random.normal(size=(2,2))\n",
    "print(a)\n",
    "## matrix rank\n",
    "print(np.linalg.matrix_rank(a))\n",
    "print(np.linalg.det(a))"
   ]
  },
  {
   "cell_type": "markdown",
   "metadata": {
    "ein.tags": "worksheet-0",
    "slideshow": {
     "slide_type": "-"
    }
   },
   "source": [
    "## Inverse matrix"
   ]
  },
  {
   "cell_type": "code",
   "execution_count": 4,
   "metadata": {
    "autoscroll": false,
    "ein.tags": "worksheet-0",
    "slideshow": {
     "slide_type": "-"
    }
   },
   "outputs": [
    {
     "name": "stdout",
     "output_type": "stream",
     "text": [
      "[[ 1.11905388 -0.28997182]\n",
      " [-0.08895518  0.45248557]]\n",
      "\n",
      " [[1. 0.]\n",
      " [0. 1.]]\n",
      "\n",
      " [[1.00000000e+00 0.00000000e+00]\n",
      " [2.77555756e-17 1.00000000e+00]]\n",
      "\n",
      " [[0.00000000e+00 0.00000000e+00]\n",
      " [2.77555756e-17 0.00000000e+00]]\n"
     ]
    }
   ],
   "source": [
    "a1 = np.linalg.inv(a)\n",
    "print(a1)\n",
    "print(\"\\n\", a1 @ a)\n",
    "print(\"\\n\", a @ a1)\n",
    "print(\"\\n\", a @ a1 - np.eye(2))"
   ]
  },
  {
   "cell_type": "markdown",
   "metadata": {
    "ein.tags": "worksheet-0",
    "slideshow": {
     "slide_type": "-"
    }
   },
   "source": [
    "## (Near) singular matrices"
   ]
  },
  {
   "cell_type": "code",
   "execution_count": 5,
   "metadata": {
    "autoscroll": false,
    "ein.tags": "worksheet-0",
    "slideshow": {
     "slide_type": "-"
    }
   },
   "outputs": [
    {
     "name": "stdout",
     "output_type": "stream",
     "text": [
      "[[1 2 3]\n",
      " [4 5 6]\n",
      " [7 8 9]]\n",
      "rank= 2\n"
     ]
    },
    {
     "data": {
      "text/plain": [
       "matrix([[ 3.15251974e+15, -6.30503948e+15,  3.15251974e+15],\n",
       "        [-6.30503948e+15,  1.26100790e+16, -6.30503948e+15],\n",
       "        [ 3.15251974e+15, -6.30503948e+15,  3.15251974e+15]])"
      ]
     },
     "execution_count": 5,
     "metadata": {},
     "output_type": "execute_result"
    }
   ],
   "source": [
    "## singular matrix\n",
    "a = np.matrix(np.arange(1,10).reshape(3,3))\n",
    "print(a)\n",
    "print(\"rank=\", np.linalg.matrix_rank(a))\n",
    "np.linalg.inv(a)"
   ]
  },
  {
   "cell_type": "code",
   "execution_count": 6,
   "metadata": {
    "autoscroll": false,
    "ein.tags": "worksheet-0",
    "slideshow": {
     "slide_type": "-"
    }
   },
   "outputs": [
    {
     "name": "stdout",
     "output_type": "stream",
     "text": [
      "[[1.001 2.    3.   ]\n",
      " [4.    5.001 6.   ]\n",
      " [7.    8.    9.001]]\n",
      "rank= 3\n",
      "\n",
      " [[ 1.00000000e+00 -2.27373675e-13 -3.61551528e-13]\n",
      " [ 2.27373675e-13  1.00000000e+00  3.40461273e-13]\n",
      " [-8.52651283e-14  0.00000000e+00  1.00000000e+00]]\n",
      "\n",
      " [[-4.26325641e-13 -2.27373675e-13 -3.61551528e-13]\n",
      " [ 2.27373675e-13  0.00000000e+00  3.40461273e-13]\n",
      " [-8.52651283e-14  0.00000000e+00  1.18349774e-13]]\n",
      "condition number\n",
      " 16849.05394510901\n"
     ]
    }
   ],
   "source": [
    "b = a + 0.001*np.eye(3)\n",
    "print(b)\n",
    "print(\"rank=\", np.linalg.matrix_rank(b))\n",
    "b1 = np.linalg.inv(b)\n",
    "print(\"\\n\", b1@b)\n",
    "print('\\n', b1@b - np.eye(3))\n",
    "\n",
    "print(\"condition number\\n\", np.linalg.cond(b))"
   ]
  },
  {
   "cell_type": "markdown",
   "metadata": {
    "ein.tags": "worksheet-0",
    "slideshow": {
     "slide_type": "-"
    }
   },
   "source": [
    "## Eigenvalues"
   ]
  },
  {
   "cell_type": "code",
   "execution_count": 7,
   "metadata": {
    "autoscroll": false,
    "ein.tags": "worksheet-0",
    "slideshow": {
     "slide_type": "-"
    }
   },
   "outputs": [
    {
     "name": "stdout",
     "output_type": "stream",
     "text": [
      "[[1 2 3]\n",
      " [4 5 6]\n",
      " [7 8 9]]\n",
      "\n",
      "eigenvalues\n",
      " (array([ 1.61168440e+01, -1.11684397e+00, -9.75918483e-16]), matrix([[-0.23197069, -0.78583024,  0.40824829],\n",
      "        [-0.52532209, -0.08675134, -0.81649658],\n",
      "        [-0.8186735 ,  0.61232756,  0.40824829]]))\n",
      "\n",
      "eigenvalues\n",
      " [ 1.61168440e+01 -1.11684397e+00 -9.75918483e-16]\n",
      "\n",
      "eigenvectors\n",
      " [[-0.23197069 -0.78583024  0.40824829]\n",
      " [-0.52532209 -0.08675134 -0.81649658]\n",
      " [-0.8186735   0.61232756  0.40824829]]\n"
     ]
    }
   ],
   "source": [
    "a = np.matrix(np.arange(1,10).reshape(3,3))\n",
    "print(a)\n",
    "ev = np.linalg.eig(a)\n",
    "print('\\neigenvalues\\n', ev)\n",
    "val, vec = np.linalg.eig(a)\n",
    "print('\\neigenvalues\\n', val)\n",
    "print('\\neigenvectors\\n', vec)"
   ]
  },
  {
   "cell_type": "markdown",
   "metadata": {
    "ein.tags": "worksheet-0",
    "slideshow": {
     "slide_type": "-"
    }
   },
   "source": [
    "## diagonalization"
   ]
  },
  {
   "cell_type": "code",
   "execution_count": 8,
   "metadata": {
    "autoscroll": false,
    "ein.tags": "worksheet-0",
    "slideshow": {
     "slide_type": "-"
    }
   },
   "outputs": [
    {
     "name": "stdout",
     "output_type": "stream",
     "text": [
      "[[1. 3. 5.]\n",
      " [3. 5. 7.]\n",
      " [5. 7. 9.]]\n",
      "\n",
      "eigenvalues\n",
      " [ 1.64582364e+01 -1.45823643e+00  8.30056137e-16]\n",
      "\n",
      "eigenvectors\n",
      " [[-0.35162514 -0.84243284  0.40824829]\n",
      " [-0.55335618 -0.1647127  -0.81649658]\n",
      " [-0.75508721  0.51300744  0.40824829]]\n",
      "\n",
      " [[-0.35162514 -0.84243284  0.40824829]\n",
      " [-0.55335618 -0.1647127  -0.81649658]\n",
      " [-0.75508721  0.51300744  0.40824829]]\n",
      "\n",
      "C inverse\n",
      " [[-0.35162514 -0.55335618 -0.75508721]\n",
      " [-0.84243284 -0.1647127   0.51300744]\n",
      " [ 0.40824829 -0.81649658  0.40824829]]\n",
      "\n",
      "diagonal form\n",
      " [[1. 3. 5.]\n",
      " [3. 5. 7.]\n",
      " [5. 7. 9.]]\n"
     ]
    }
   ],
   "source": [
    "a = np.matrix(np.arange(1,10).reshape(3,3))\n",
    "a = 0.5*(a + a.T)\n",
    "print(a)\n",
    "val, vec = np.linalg.eig(a)\n",
    "print('\\neigenvalues\\n', val)\n",
    "print('\\neigenvectors\\n', vec)\n",
    "L = np.diag(val)\n",
    "C = vec\n",
    "print('\\n', C)\n",
    "C1 = np.linalg.inv(C)\n",
    "print('\\nC inverse\\n', C1)\n",
    "print('\\ndiagonal form\\n', C @ L @ C1)"
   ]
  },
  {
   "cell_type": "code",
   "execution_count": null,
   "metadata": {
    "autoscroll": false,
    "ein.tags": "worksheet-0",
    "slideshow": {
     "slide_type": "-"
    }
   },
   "outputs": [],
   "source": []
  }
 ],
 "metadata": {
  "kernelspec": {
   "display_name": "Python 3",
   "language": "python",
   "name": "python3"
  },
  "language_info": {
   "codemirror_mode": {
    "name": "ipython",
    "version": 3
   },
   "file_extension": ".py",
   "mimetype": "text/x-python",
   "name": "python",
   "nbconvert_exporter": "python",
   "pygments_lexer": "ipython3",
   "version": "3.6.4"
  },
  "name": "matrices2.ipynb"
 },
 "nbformat": 4,
 "nbformat_minor": 2
}
