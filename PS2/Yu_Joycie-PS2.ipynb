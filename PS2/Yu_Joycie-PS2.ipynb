{
 "cells": [
  {
   "cell_type": "code",
   "execution_count": 54,
   "metadata": {},
   "outputs": [
    {
     "name": "stdout",
     "output_type": "stream",
     "text": [
      "Numpy version:        1.14.0 (need at least 1.7.1)\n",
      "Pandas version:       0.22.0 (need at least 0.11.0)\n",
      "SciPy version:         1.0.0 (need at least 0.12.0)\n"
     ]
    }
   ],
   "source": [
    "# Numpy is a library for working with Arrays\n",
    "import numpy as np\n",
    "print(\"Numpy version:        %6.6s (need at least 1.7.1)\" % np.__version__)\n",
    "\n",
    "# Pandas makes working with data tables easier\n",
    "import pandas as pd\n",
    "print(\"Pandas version:       %6.6s (need at least 0.11.0)\" % pd.__version__)\n",
    "\n",
    "# SciPy implements many different numerical algorithms\n",
    "import scipy as sp\n",
    "print(\"SciPy version:        %6.6s (need at least 0.12.0)\" % sp.__version__)\n",
    "\n",
    "import scipy.sparse\n",
    "import csv"
   ]
  },
  {
   "cell_type": "code",
   "execution_count": 56,
   "metadata": {},
   "outputs": [
    {
     "name": "stdout",
     "output_type": "stream",
     "text": [
      "4283119\n"
     ]
    }
   ],
   "source": [
    "\n",
    "# define constants\n",
    "alpha = 0.85\n",
    "epsilon = 0.00001\n"
   ]
  },
  {
   "cell_type": "code",
   "execution_count": 79,
   "metadata": {},
   "outputs": [],
   "source": [
    "# 1.2 create adjacency matrix\n",
    "# function that takes in file name and outputs a matrix\n",
    "# reads each line of the file and splits it\n",
    "def data_input (file):\n",
    "    # create empty matrix with size matching # unique articles \n",
    "    matrix = np.zeros(shape = (10748,10748), dtype = 'int')\n",
    "    with open(file, 'r') as file:\n",
    "        content = file.readlines()\n",
    "        for line in content :\n",
    "            text = line.split(\", \") # returns array\n",
    "            textNum = [int(num) for num in text]\n",
    "            matrix[textNum[0], textNum[1]] = textNum[2]\n",
    "    return matrix\n",
    "\n",
    "\n",
    "matrix = data_input('links.txt')"
   ]
  },
  {
   "cell_type": "code",
   "execution_count": 84,
   "metadata": {},
   "outputs": [],
   "source": [
    "# 1.3 modify adjacency matrix\n",
    "# Set diagonal to zero\n",
    "np.fill_diagonal(matrix, 0)\n",
    "\n",
    "col_sums = np.sum(matrix, 0) \n",
    "col_sums = [1 if x == 0 else x for x in col_sums]\n",
    "H = np.divide(matrix, col_sums, dtype='float')"
   ]
  },
  {
   "cell_type": "code",
   "execution_count": 99,
   "metadata": {},
   "outputs": [
    {
     "data": {
      "text/plain": [
       "(1, 10748)"
      ]
     },
     "execution_count": 99,
     "metadata": {},
     "output_type": "execute_result"
    }
   ],
   "source": [
    "# 1.4 identify dangling nodes\n",
    "dang_sums = np.matrix(1 - np.sum(H, 0))"
   ]
  },
  {
   "cell_type": "code",
   "execution_count": 129,
   "metadata": {},
   "outputs": [
    {
     "data": {
      "text/plain": [
       "(10748, 1)"
      ]
     },
     "execution_count": 129,
     "metadata": {},
     "output_type": "execute_result"
    }
   ],
   "source": [
    "# 1.5 calculate influence vector\n",
    "\n",
    "# create article vector with shape (n, 1)\n",
    "# assume all publications produce only 1 article making the total 10748\n",
    "total = 10748\n",
    "row_total = np.sum(matrix, 1)\n",
    "A_tot = np.matrix(np.divide(row_total, total, dtype=\"float\")).T\n",
    "\n",
    "# make initial start vector where shape is (n, 1) with values 1/# of articles\n",
    "pi_k = np.empty(10748); start.fill(1/10748)\n",
    "pi_k = np.matrix(start)\n",
    "\n",
    "\n",
    "#π(k+1) =αHπ(k) +[αd.π(k) +(1−α)]a\n",
    "\n",
    "# calculate influence vector\n",
    "def sparse_eq (d, H, a, pi_k) :\n",
    "    # define constants\n",
    "    alpha = 0.85\n",
    "    epsilon = 0.00001\n",
    "    pi_k = alpha * np.dot(H, pi_k) + np.dot(alpha * np.dot(pi_k, d) + (1-alpha), a) \n",
    "    total = np.sum(np.sum(pi_k))\n",
    "    pi_k = np.divide(pi_k, total)\n",
    "    return pi_k\n",
    "\n",
    "pi_k = sparse_eq(dang_sums, H, A_tot, pi_k)\n",
    "pi_k.shape \n",
    "#H.shape (10748, 10748)\n",
    "#dang_sums.shape (1, 10748)\n",
    "#A_tot.shape (10748, 1)"
   ]
  },
  {
   "cell_type": "code",
   "execution_count": null,
   "metadata": {},
   "outputs": [],
   "source": [
    "# 1.6 calculate eigenfactor\n"
   ]
  }
 ],
 "metadata": {
  "kernelspec": {
   "display_name": "Python 3",
   "language": "python",
   "name": "python3"
  },
  "language_info": {
   "codemirror_mode": {
    "name": "ipython",
    "version": 3
   },
   "file_extension": ".py",
   "mimetype": "text/x-python",
   "name": "python",
   "nbconvert_exporter": "python",
   "pygments_lexer": "ipython3",
   "version": "3.6.4"
  }
 },
 "nbformat": 4,
 "nbformat_minor": 2
}
